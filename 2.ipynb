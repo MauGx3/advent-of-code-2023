{
 "cells": [
  {
   "cell_type": "code",
   "execution_count": 2,
   "metadata": {},
   "outputs": [],
   "source": [
    "with open('cube_games.txt', 'r') as f:\n",
    "    games = f.readlines()\n",
    "    games = [x.strip() for x in games]"
   ]
  },
  {
   "cell_type": "code",
   "execution_count": 3,
   "metadata": {},
   "outputs": [],
   "source": [
    "possible = {'red': 12, 'green': 13, 'blue': 14}"
   ]
  },
  {
   "cell_type": "markdown",
   "metadata": {},
   "source": [
    "# Part 1"
   ]
  },
  {
   "cell_type": "markdown",
   "metadata": {},
   "source": [
    "function to clean the games list and format each game into a list of dictionaries for each round"
   ]
  },
  {
   "cell_type": "code",
   "execution_count": 4,
   "metadata": {},
   "outputs": [],
   "source": [
    "def game_cleaning(game):\n",
    "    global new_game, game_list\n",
    "    game_list = []\n",
    "    game_id = game.split(': ')[0]\n",
    "    game_results = game.split(';')\n",
    "    game_results[0] = game_results[0].replace(f'{game_id}: ', '')\n",
    "    game_id = int(game_id.split(' ')[1])\n",
    "\n",
    "    for game_round in game_results:\n",
    "        new_game_round = {'ID': game_id}\n",
    "        game_round = game_round.split(', ')\n",
    "        game_round = [x.strip() for x in game_round]\n",
    "        # print(game_round)\n",
    "        for cubes_drawn_perColor in game_round:\n",
    "            cubes_drawn_perColor = cubes_drawn_perColor.split(' ')\n",
    "            cubes_drawn_perColor = [x.strip() for x in cubes_drawn_perColor]\n",
    "            cubes_drawn_perColor = {\n",
    "                cubes_drawn_perColor[1]: int(cubes_drawn_perColor[0])}\n",
    "            # print(cubes_drawn_perColor)\n",
    "            new_game_round.update(cubes_drawn_perColor)\n",
    "        # print(new_game_round)\n",
    "        game_list.append(new_game_round)\n",
    "\n",
    "    for game_round in game_list:\n",
    "        if 'red' not in game_round:\n",
    "            game_round.update({'red': 0})\n",
    "            # print(game_list)\n",
    "        if 'green' not in game_round:\n",
    "            game_round.update({'green': 0})\n",
    "            # print(game_list)\n",
    "        if 'blue' not in game_round:\n",
    "            game_round.update({'blue': 0})\n",
    "    # print(game_list)"
   ]
  },
  {
   "cell_type": "markdown",
   "metadata": {},
   "source": [
    "function to check if a round is possible and write the value to the results"
   ]
  },
  {
   "cell_type": "code",
   "execution_count": 5,
   "metadata": {},
   "outputs": [],
   "source": [
    "def check_possible(game_list):\n",
    "    global possible_game_sum\n",
    "    impossible_round = 0\n",
    "    for game_round in game_list:\n",
    "        if game_round['red'] > 12 or game_round['green'] > 13 or game_round['blue'] > 14:\n",
    "            game_round.update({'possible': False})\n",
    "        else:\n",
    "            game_round.update({'possible': True})\n",
    "    print(game_list)\n",
    "\n",
    "    for game_round in game_list:\n",
    "        if game_round['possible'] == False:\n",
    "            impossible_round += 1\n",
    "            # print(False)\n",
    "        else:\n",
    "            pass\n",
    "\n",
    "    if impossible_round == 0:\n",
    "        possible_game_sum = possible_game_sum + game_list[0]['ID']"
   ]
  },
  {
   "cell_type": "markdown",
   "metadata": {},
   "source": [
    "running both functions and adding up the IDs for possible games"
   ]
  },
  {
   "cell_type": "code",
   "execution_count": 6,
   "metadata": {},
   "outputs": [
    {
     "name": "stdout",
     "output_type": "stream",
     "text": [
      "[{'ID': 1, 'red': 4, 'green': 18, 'blue': 15, 'possible': False}, {'ID': 1, 'green': 17, 'blue': 18, 'red': 9, 'possible': False}, {'ID': 1, 'red': 8, 'green': 14, 'blue': 6, 'possible': False}, {'ID': 1, 'green': 14, 'blue': 12, 'red': 2, 'possible': False}]\n",
      "[{'ID': 2, 'red': 6, 'green': 11, 'blue': 0, 'possible': True}, {'ID': 2, 'blue': 4, 'green': 4, 'red': 5, 'possible': True}, {'ID': 2, 'green': 11, 'blue': 6, 'red': 6, 'possible': True}]\n",
      "[{'ID': 3, 'red': 3, 'green': 3, 'blue': 0, 'possible': True}, {'ID': 3, 'green': 3, 'blue': 1, 'red': 7, 'possible': True}, {'ID': 3, 'green': 3, 'red': 5, 'blue': 1, 'possible': True}, {'ID': 3, 'red': 9, 'green': 4, 'blue': 0, 'possible': True}, {'ID': 3, 'blue': 1, 'green': 2, 'red': 5, 'possible': True}]\n",
      "[{'ID': 4, 'blue': 2, 'green': 5, 'red': 9, 'possible': True}, {'ID': 4, 'red': 7, 'blue': 10, 'green': 0, 'possible': True}, {'ID': 4, 'green': 2, 'blue': 14, 'red': 5, 'possible': True}, {'ID': 4, 'blue': 3, 'green': 2, 'red': 0, 'possible': True}, {'ID': 4, 'green': 4, 'red': 10, 'blue': 7, 'possible': True}, {'ID': 4, 'green': 2, 'blue': 15, 'red': 7, 'possible': False}]\n",
      "[{'ID': 5, 'red': 3, 'blue': 2, 'green': 0, 'possible': True}, {'ID': 5, 'red': 5, 'blue': 3, 'green': 0, 'possible': True}, {'ID': 5, 'blue': 10, 'red': 10, 'green': 1, 'possible': True}, {'ID': 5, 'blue': 4, 'red': 0, 'green': 0, 'possible': True}]\n",
      "[{'ID': 6, 'green': 1, 'blue': 10, 'red': 5, 'possible': True}, {'ID': 6, 'blue': 8, 'green': 9, 'red': 0, 'possible': True}, {'ID': 6, 'green': 20, 'red': 7, 'blue': 10, 'possible': False}, {'ID': 6, 'green': 12, 'blue': 6, 'red': 6, 'possible': True}, {'ID': 6, 'blue': 10, 'green': 11, 'red': 0, 'possible': True}, {'ID': 6, 'blue': 8, 'green': 17, 'red': 5, 'possible': False}]\n",
      "[{'ID': 7, 'green': 7, 'blue': 12, 'red': 3, 'possible': True}, {'ID': 7, 'red': 19, 'blue': 12, 'green': 0, 'possible': False}, {'ID': 7, 'blue': 8, 'red': 8, 'green': 7, 'possible': True}, {'ID': 7, 'red': 6, 'green': 7, 'blue': 5, 'possible': True}]\n",
      "[{'ID': 8, 'blue': 8, 'red': 7, 'green': 0, 'possible': True}, {'ID': 8, 'green': 13, 'blue': 5, 'red': 5, 'possible': True}, {'ID': 8, 'blue': 11, 'green': 4, 'red': 7, 'possible': True}, {'ID': 8, 'blue': 5, 'red': 6, 'green': 13, 'possible': True}, {'ID': 8, 'blue': 7, 'green': 12, 'red': 8, 'possible': True}]\n",
      "[{'ID': 9, 'red': 3, 'blue': 3, 'green': 12, 'possible': True}, {'ID': 9, 'red': 2, 'blue': 1, 'green': 9, 'possible': True}, {'ID': 9, 'red': 3, 'green': 12, 'blue': 3, 'possible': True}, {'ID': 9, 'red': 2, 'green': 7, 'blue': 2, 'possible': True}, {'ID': 9, 'green': 8, 'blue': 4, 'red': 0, 'possible': True}, {'ID': 9, 'red': 2, 'green': 2, 'blue': 0, 'possible': True}]\n",
      "[{'ID': 10, 'green': 16, 'red': 10, 'blue': 0, 'possible': False}, {'ID': 10, 'green': 13, 'red': 7, 'blue': 0, 'possible': True}, {'ID': 10, 'red': 8, 'blue': 1, 'green': 8, 'possible': True}]\n",
      "[{'ID': 11, 'red': 7, 'blue': 1, 'green': 1, 'possible': True}, {'ID': 11, 'blue': 6, 'green': 1, 'red': 3, 'possible': True}, {'ID': 11, 'blue': 5, 'red': 10, 'green': 0, 'possible': True}]\n",
      "[{'ID': 12, 'green': 1, 'red': 8, 'blue': 5, 'possible': True}, {'ID': 12, 'red': 6, 'blue': 12, 'green': 0, 'possible': True}, {'ID': 12, 'blue': 2, 'red': 15, 'green': 0, 'possible': False}, {'ID': 12, 'blue': 14, 'red': 15, 'green': 1, 'possible': False}, {'ID': 12, 'red': 8, 'blue': 9, 'green': 0, 'possible': True}]\n",
      "[{'ID': 13, 'green': 1, 'red': 6, 'blue': 0, 'possible': True}, {'ID': 13, 'blue': 7, 'red': 13, 'green': 1, 'possible': False}, {'ID': 13, 'blue': 3, 'red': 4, 'green': 0, 'possible': True}]\n",
      "[{'ID': 14, 'red': 11, 'green': 1, 'blue': 1, 'possible': True}, {'ID': 14, 'blue': 3, 'red': 18, 'green': 15, 'possible': False}, {'ID': 14, 'blue': 10, 'green': 5, 'red': 11, 'possible': True}]\n",
      "[{'ID': 15, 'green': 6, 'blue': 10, 'red': 15, 'possible': False}, {'ID': 15, 'green': 6, 'blue': 17, 'red': 8, 'possible': False}, {'ID': 15, 'red': 19, 'blue': 7, 'green': 2, 'possible': False}, {'ID': 15, 'green': 1, 'red': 18, 'blue': 4, 'possible': False}]\n",
      "[{'ID': 16, 'green': 1, 'red': 17, 'blue': 7, 'possible': False}, {'ID': 16, 'red': 12, 'green': 10, 'blue': 9, 'possible': True}, {'ID': 16, 'red': 15, 'green': 3, 'blue': 15, 'possible': False}]\n",
      "[{'ID': 17, 'blue': 12, 'green': 13, 'red': 0, 'possible': True}, {'ID': 17, 'green': 16, 'blue': 19, 'red': 7, 'possible': False}, {'ID': 17, 'green': 1, 'blue': 2, 'red': 0, 'possible': True}]\n",
      "[{'ID': 18, 'blue': 8, 'green': 9, 'red': 2, 'possible': True}, {'ID': 18, 'blue': 9, 'green': 7, 'red': 0, 'possible': True}, {'ID': 18, 'red': 3, 'green': 9, 'blue': 10, 'possible': True}, {'ID': 18, 'blue': 1, 'green': 7, 'red': 2, 'possible': True}, {'ID': 18, 'green': 1, 'blue': 8, 'red': 4, 'possible': True}]\n",
      "[{'ID': 19, 'green': 3, 'red': 2, 'blue': 11, 'possible': True}, {'ID': 19, 'blue': 13, 'green': 3, 'red': 1, 'possible': True}, {'ID': 19, 'red': 1, 'blue': 10, 'green': 0, 'possible': True}]\n",
      "[{'ID': 20, 'red': 2, 'green': 4, 'blue': 1, 'possible': True}, {'ID': 20, 'blue': 14, 'green': 7, 'red': 0, 'possible': True}, {'ID': 20, 'blue': 7, 'green': 9, 'red': 0, 'possible': True}, {'ID': 20, 'red': 4, 'green': 5, 'blue': 7, 'possible': True}]\n",
      "[{'ID': 21, 'blue': 4, 'red': 20, 'green': 7, 'possible': False}, {'ID': 21, 'green': 4, 'blue': 6, 'red': 14, 'possible': False}, {'ID': 21, 'green': 6, 'red': 18, 'blue': 5, 'possible': False}, {'ID': 21, 'blue': 2, 'green': 4, 'red': 6, 'possible': True}, {'ID': 21, 'green': 4, 'red': 16, 'blue': 4, 'possible': False}]\n",
      "[{'ID': 22, 'red': 13, 'green': 2, 'blue': 0, 'possible': False}, {'ID': 22, 'red': 6, 'blue': 3, 'green': 0, 'possible': True}, {'ID': 22, 'red': 6, 'green': 2, 'blue': 0, 'possible': True}, {'ID': 22, 'red': 7, 'green': 1, 'blue': 0, 'possible': True}, {'ID': 22, 'red': 6, 'green': 2, 'blue': 0, 'possible': True}]\n",
      "[{'ID': 23, 'blue': 5, 'red': 0, 'green': 0, 'possible': True}, {'ID': 23, 'red': 6, 'green': 16, 'blue': 12, 'possible': False}, {'ID': 23, 'blue': 1, 'green': 6, 'red': 2, 'possible': True}, {'ID': 23, 'red': 8, 'blue': 6, 'green': 3, 'possible': True}]\n",
      "[{'ID': 24, 'green': 10, 'blue': 4, 'red': 5, 'possible': True}, {'ID': 24, 'green': 1, 'red': 3, 'blue': 0, 'possible': True}, {'ID': 24, 'red': 8, 'blue': 3, 'green': 6, 'possible': True}, {'ID': 24, 'red': 3, 'blue': 2, 'green': 0, 'possible': True}, {'ID': 24, 'red': 3, 'green': 10, 'blue': 3, 'possible': True}]\n",
      "[{'ID': 25, 'red': 1, 'green': 2, 'blue': 0, 'possible': True}, {'ID': 25, 'green': 4, 'red': 6, 'blue': 1, 'possible': True}, {'ID': 25, 'red': 3, 'green': 0, 'blue': 0, 'possible': True}, {'ID': 25, 'green': 4, 'red': 2, 'blue': 0, 'possible': True}]\n",
      "[{'ID': 26, 'red': 7, 'blue': 1, 'green': 0, 'possible': True}, {'ID': 26, 'red': 2, 'blue': 1, 'green': 0, 'possible': True}, {'ID': 26, 'red': 9, 'green': 1, 'blue': 2, 'possible': True}, {'ID': 26, 'red': 5, 'blue': 2, 'green': 0, 'possible': True}, {'ID': 26, 'red': 4, 'green': 2, 'blue': 0, 'possible': True}, {'ID': 26, 'red': 8, 'green': 1, 'blue': 2, 'possible': True}]\n",
      "[{'ID': 27, 'green': 1, 'red': 2, 'blue': 8, 'possible': True}, {'ID': 27, 'green': 1, 'red': 4, 'blue': 9, 'possible': True}, {'ID': 27, 'blue': 16, 'red': 12, 'green': 3, 'possible': False}, {'ID': 27, 'blue': 13, 'green': 4, 'red': 5, 'possible': True}]\n",
      "[{'ID': 28, 'blue': 8, 'green': 8, 'red': 3, 'possible': True}, {'ID': 28, 'green': 8, 'blue': 6, 'red': 0, 'possible': True}, {'ID': 28, 'green': 5, 'blue': 6, 'red': 4, 'possible': True}]\n",
      "[{'ID': 29, 'red': 7, 'green': 11, 'blue': 5, 'possible': True}, {'ID': 29, 'green': 1, 'blue': 1, 'red': 6, 'possible': True}, {'ID': 29, 'green': 6, 'blue': 5, 'red': 8, 'possible': True}, {'ID': 29, 'blue': 7, 'green': 15, 'red': 2, 'possible': False}, {'ID': 29, 'blue': 10, 'red': 1, 'green': 0, 'possible': True}]\n",
      "[{'ID': 30, 'red': 7, 'blue': 5, 'green': 14, 'possible': False}, {'ID': 30, 'blue': 2, 'red': 11, 'green': 0, 'possible': True}, {'ID': 30, 'green': 17, 'blue': 2, 'red': 7, 'possible': False}, {'ID': 30, 'blue': 4, 'red': 10, 'green': 5, 'possible': True}]\n",
      "[{'ID': 31, 'blue': 17, 'red': 5, 'green': 2, 'possible': False}, {'ID': 31, 'red': 7, 'blue': 14, 'green': 3, 'possible': True}, {'ID': 31, 'blue': 13, 'red': 5, 'green': 2, 'possible': True}, {'ID': 31, 'green': 12, 'blue': 8, 'red': 8, 'possible': True}]\n",
      "[{'ID': 32, 'red': 1, 'blue': 7, 'green': 0, 'possible': True}, {'ID': 32, 'red': 1, 'blue': 8, 'green': 0, 'possible': True}, {'ID': 32, 'red': 1, 'green': 2, 'blue': 13, 'possible': True}]\n",
      "[{'ID': 33, 'green': 1, 'blue': 3, 'red': 3, 'possible': True}, {'ID': 33, 'red': 4, 'green': 2, 'blue': 0, 'possible': True}, {'ID': 33, 'blue': 5, 'red': 1, 'green': 1, 'possible': True}, {'ID': 33, 'red': 1, 'blue': 8, 'green': 2, 'possible': True}]\n",
      "[{'ID': 34, 'blue': 9, 'red': 7, 'green': 0, 'possible': True}, {'ID': 34, 'green': 9, 'red': 11, 'blue': 1, 'possible': True}, {'ID': 34, 'red': 18, 'blue': 4, 'green': 6, 'possible': False}]\n",
      "[{'ID': 35, 'blue': 7, 'green': 4, 'red': 2, 'possible': True}, {'ID': 35, 'green': 1, 'blue': 1, 'red': 2, 'possible': True}, {'ID': 35, 'green': 3, 'red': 0, 'blue': 0, 'possible': True}, {'ID': 35, 'blue': 3, 'green': 7, 'red': 1, 'possible': True}, {'ID': 35, 'blue': 7, 'green': 12, 'red': 0, 'possible': True}]\n",
      "[{'ID': 36, 'red': 17, 'blue': 5, 'green': 0, 'possible': False}, {'ID': 36, 'red': 6, 'green': 5, 'blue': 7, 'possible': True}, {'ID': 36, 'blue': 16, 'green': 1, 'red': 7, 'possible': False}, {'ID': 36, 'blue': 7, 'green': 5, 'red': 15, 'possible': False}, {'ID': 36, 'blue': 8, 'red': 19, 'green': 1, 'possible': False}]\n",
      "[{'ID': 37, 'blue': 4, 'red': 6, 'green': 1, 'possible': True}, {'ID': 37, 'red': 9, 'green': 8, 'blue': 4, 'possible': True}, {'ID': 37, 'green': 1, 'blue': 8, 'red': 10, 'possible': True}, {'ID': 37, 'green': 11, 'red': 6, 'blue': 9, 'possible': True}]\n",
      "[{'ID': 38, 'red': 3, 'blue': 4, 'green': 0, 'possible': True}, {'ID': 38, 'red': 5, 'blue': 1, 'green': 0, 'possible': True}, {'ID': 38, 'green': 1, 'red': 2, 'blue': 5, 'possible': True}, {'ID': 38, 'blue': 2, 'red': 8, 'green': 0, 'possible': True}, {'ID': 38, 'red': 7, 'blue': 1, 'green': 0, 'possible': True}, {'ID': 38, 'blue': 4, 'red': 5, 'green': 0, 'possible': True}]\n",
      "[{'ID': 39, 'green': 7, 'red': 0, 'blue': 0, 'possible': True}, {'ID': 39, 'green': 5, 'red': 0, 'blue': 0, 'possible': True}, {'ID': 39, 'blue': 3, 'red': 0, 'green': 0, 'possible': True}, {'ID': 39, 'green': 12, 'red': 1, 'blue': 1, 'possible': True}, {'ID': 39, 'green': 8, 'blue': 1, 'red': 1, 'possible': True}]\n",
      "[{'ID': 40, 'red': 12, 'blue': 11, 'green': 0, 'possible': True}, {'ID': 40, 'green': 6, 'blue': 2, 'red': 13, 'possible': False}, {'ID': 40, 'green': 6, 'red': 7, 'blue': 6, 'possible': True}]\n",
      "[{'ID': 41, 'green': 3, 'blue': 1, 'red': 0, 'possible': True}, {'ID': 41, 'blue': 5, 'red': 7, 'green': 6, 'possible': True}, {'ID': 41, 'red': 6, 'blue': 14, 'green': 0, 'possible': True}, {'ID': 41, 'red': 9, 'green': 14, 'blue': 5, 'possible': False}, {'ID': 41, 'blue': 5, 'green': 6, 'red': 3, 'possible': True}, {'ID': 41, 'green': 20, 'blue': 4, 'red': 5, 'possible': False}]\n",
      "[{'ID': 42, 'blue': 2, 'green': 13, 'red': 0, 'possible': True}, {'ID': 42, 'red': 10, 'green': 6, 'blue': 0, 'possible': True}, {'ID': 42, 'green': 8, 'red': 2, 'blue': 0, 'possible': True}, {'ID': 42, 'red': 7, 'green': 0, 'blue': 0, 'possible': True}]\n",
      "[{'ID': 43, 'green': 7, 'red': 3, 'blue': 0, 'possible': True}, {'ID': 43, 'red': 6, 'green': 6, 'blue': 13, 'possible': True}, {'ID': 43, 'green': 7, 'red': 2, 'blue': 9, 'possible': True}, {'ID': 43, 'blue': 8, 'green': 3, 'red': 1, 'possible': True}, {'ID': 43, 'green': 10, 'red': 7, 'blue': 13, 'possible': True}]\n",
      "[{'ID': 44, 'blue': 3, 'green': 1, 'red': 2, 'possible': True}, {'ID': 44, 'blue': 10, 'red': 9, 'green': 0, 'possible': True}, {'ID': 44, 'red': 5, 'blue': 13, 'green': 0, 'possible': True}]\n",
      "[{'ID': 45, 'red': 11, 'green': 2, 'blue': 5, 'possible': True}, {'ID': 45, 'green': 1, 'red': 6, 'blue': 6, 'possible': True}, {'ID': 45, 'red': 17, 'green': 2, 'blue': 6, 'possible': False}, {'ID': 45, 'red': 14, 'green': 2, 'blue': 0, 'possible': False}]\n",
      "[{'ID': 46, 'blue': 5, 'red': 7, 'green': 8, 'possible': True}, {'ID': 46, 'green': 6, 'red': 1, 'blue': 10, 'possible': True}, {'ID': 46, 'red': 1, 'blue': 5, 'green': 4, 'possible': True}]\n",
      "[{'ID': 47, 'green': 5, 'red': 5, 'blue': 1, 'possible': True}, {'ID': 47, 'green': 11, 'red': 8, 'blue': 6, 'possible': True}, {'ID': 47, 'green': 2, 'red': 16, 'blue': 1, 'possible': False}, {'ID': 47, 'green': 12, 'red': 1, 'blue': 7, 'possible': True}, {'ID': 47, 'red': 2, 'green': 15, 'blue': 7, 'possible': False}]\n",
      "[{'ID': 48, 'red': 3, 'green': 6, 'blue': 4, 'possible': True}, {'ID': 48, 'blue': 1, 'green': 1, 'red': 2, 'possible': True}, {'ID': 48, 'blue': 12, 'green': 7, 'red': 5, 'possible': True}]\n",
      "[{'ID': 49, 'blue': 4, 'green': 1, 'red': 0, 'possible': True}, {'ID': 49, 'red': 4, 'blue': 2, 'green': 0, 'possible': True}, {'ID': 49, 'blue': 3, 'green': 2, 'red': 0, 'possible': True}, {'ID': 49, 'red': 5, 'blue': 3, 'green': 4, 'possible': True}]\n",
      "[{'ID': 50, 'blue': 1, 'green': 1, 'red': 0, 'possible': True}, {'ID': 50, 'blue': 3, 'red': 7, 'green': 1, 'possible': True}, {'ID': 50, 'blue': 2, 'green': 1, 'red': 0, 'possible': True}]\n",
      "[{'ID': 51, 'blue': 17, 'green': 1, 'red': 3, 'possible': False}, {'ID': 51, 'green': 2, 'red': 1, 'blue': 3, 'possible': True}, {'ID': 51, 'blue': 14, 'red': 10, 'green': 0, 'possible': True}]\n",
      "[{'ID': 52, 'blue': 8, 'green': 1, 'red': 0, 'possible': True}, {'ID': 52, 'blue': 1, 'red': 3, 'green': 2, 'possible': True}, {'ID': 52, 'green': 2, 'blue': 14, 'red': 0, 'possible': True}]\n",
      "[{'ID': 53, 'green': 9, 'blue': 3, 'red': 9, 'possible': True}, {'ID': 53, 'blue': 3, 'red': 7, 'green': 8, 'possible': True}, {'ID': 53, 'green': 2, 'red': 2, 'blue': 0, 'possible': True}, {'ID': 53, 'green': 17, 'red': 3, 'blue': 0, 'possible': False}, {'ID': 53, 'green': 18, 'red': 8, 'blue': 0, 'possible': False}]\n",
      "[{'ID': 54, 'blue': 2, 'red': 10, 'green': 0, 'possible': True}, {'ID': 54, 'green': 2, 'red': 2, 'blue': 0, 'possible': True}, {'ID': 54, 'green': 6, 'blue': 1, 'red': 1, 'possible': True}, {'ID': 54, 'blue': 3, 'red': 6, 'green': 7, 'possible': True}]\n",
      "[{'ID': 55, 'blue': 3, 'red': 1, 'green': 0, 'possible': True}, {'ID': 55, 'green': 1, 'red': 2, 'blue': 1, 'possible': True}, {'ID': 55, 'blue': 4, 'red': 3, 'green': 0, 'possible': True}, {'ID': 55, 'blue': 5, 'green': 3, 'red': 0, 'possible': True}, {'ID': 55, 'green': 3, 'red': 1, 'blue': 3, 'possible': True}, {'ID': 55, 'green': 2, 'red': 0, 'blue': 0, 'possible': True}]\n",
      "[{'ID': 56, 'green': 10, 'red': 1, 'blue': 6, 'possible': True}, {'ID': 56, 'green': 16, 'blue': 1, 'red': 10, 'possible': False}, {'ID': 56, 'red': 8, 'green': 9, 'blue': 2, 'possible': True}, {'ID': 56, 'red': 3, 'blue': 2, 'green': 0, 'possible': True}]\n",
      "[{'ID': 57, 'blue': 1, 'green': 4, 'red': 1, 'possible': True}, {'ID': 57, 'red': 7, 'green': 4, 'blue': 8, 'possible': True}, {'ID': 57, 'red': 9, 'blue': 3, 'green': 3, 'possible': True}]\n",
      "[{'ID': 58, 'green': 15, 'blue': 16, 'red': 8, 'possible': False}, {'ID': 58, 'blue': 8, 'red': 8, 'green': 2, 'possible': True}, {'ID': 58, 'blue': 9, 'red': 8, 'green': 3, 'possible': True}, {'ID': 58, 'blue': 20, 'green': 15, 'red': 7, 'possible': False}]\n",
      "[{'ID': 59, 'red': 13, 'blue': 3, 'green': 0, 'possible': False}, {'ID': 59, 'red': 12, 'green': 4, 'blue': 0, 'possible': True}, {'ID': 59, 'blue': 9, 'green': 5, 'red': 9, 'possible': True}, {'ID': 59, 'red': 2, 'blue': 12, 'green': 1, 'possible': True}]\n",
      "[{'ID': 60, 'green': 14, 'red': 16, 'blue': 0, 'possible': False}, {'ID': 60, 'green': 5, 'blue': 1, 'red': 5, 'possible': True}, {'ID': 60, 'green': 14, 'blue': 5, 'red': 20, 'possible': False}, {'ID': 60, 'blue': 2, 'green': 8, 'red': 1, 'possible': True}]\n",
      "[{'ID': 61, 'green': 2, 'red': 10, 'blue': 15, 'possible': False}, {'ID': 61, 'blue': 17, 'red': 6, 'green': 2, 'possible': False}, {'ID': 61, 'red': 2, 'green': 2, 'blue': 12, 'possible': True}, {'ID': 61, 'red': 2, 'green': 2, 'blue': 0, 'possible': True}]\n",
      "[{'ID': 62, 'blue': 8, 'green': 1, 'red': 3, 'possible': True}, {'ID': 62, 'red': 6, 'blue': 15, 'green': 2, 'possible': False}, {'ID': 62, 'green': 5, 'blue': 6, 'red': 0, 'possible': True}, {'ID': 62, 'red': 1, 'green': 7, 'blue': 8, 'possible': True}]\n",
      "[{'ID': 63, 'green': 13, 'red': 8, 'blue': 0, 'possible': True}, {'ID': 63, 'green': 8, 'blue': 1, 'red': 5, 'possible': True}, {'ID': 63, 'green': 2, 'red': 8, 'blue': 2, 'possible': True}]\n",
      "[{'ID': 64, 'red': 13, 'blue': 12, 'green': 4, 'possible': False}, {'ID': 64, 'blue': 2, 'red': 3, 'green': 1, 'possible': True}, {'ID': 64, 'green': 4, 'red': 14, 'blue': 14, 'possible': False}, {'ID': 64, 'red': 8, 'green': 4, 'blue': 0, 'possible': True}, {'ID': 64, 'red': 16, 'green': 0, 'blue': 0, 'possible': False}, {'ID': 64, 'blue': 5, 'red': 16, 'green': 4, 'possible': False}]\n",
      "[{'ID': 65, 'red': 13, 'blue': 2, 'green': 3, 'possible': False}, {'ID': 65, 'red': 10, 'blue': 6, 'green': 0, 'possible': True}, {'ID': 65, 'blue': 6, 'red': 5, 'green': 0, 'possible': True}]\n",
      "[{'ID': 66, 'blue': 1, 'green': 9, 'red': 0, 'possible': True}, {'ID': 66, 'green': 4, 'blue': 5, 'red': 0, 'possible': True}, {'ID': 66, 'green': 8, 'blue': 8, 'red': 0, 'possible': True}, {'ID': 66, 'blue': 10, 'red': 1, 'green': 10, 'possible': True}, {'ID': 66, 'blue': 18, 'red': 1, 'green': 9, 'possible': False}]\n",
      "[{'ID': 67, 'red': 12, 'blue': 7, 'green': 0, 'possible': True}, {'ID': 67, 'red': 13, 'blue': 3, 'green': 3, 'possible': False}, {'ID': 67, 'blue': 7, 'red': 6, 'green': 4, 'possible': True}]\n",
      "[{'ID': 68, 'green': 3, 'blue': 4, 'red': 8, 'possible': True}, {'ID': 68, 'green': 1, 'blue': 2, 'red': 13, 'possible': False}, {'ID': 68, 'green': 3, 'red': 14, 'blue': 4, 'possible': False}, {'ID': 68, 'red': 6, 'green': 4, 'blue': 0, 'possible': True}, {'ID': 68, 'blue': 7, 'red': 2, 'green': 1, 'possible': True}, {'ID': 68, 'green': 1, 'blue': 3, 'red': 14, 'possible': False}]\n",
      "[{'ID': 69, 'blue': 2, 'red': 6, 'green': 2, 'possible': True}, {'ID': 69, 'green': 7, 'red': 18, 'blue': 0, 'possible': False}, {'ID': 69, 'green': 11, 'blue': 1, 'red': 13, 'possible': False}, {'ID': 69, 'red': 3, 'green': 6, 'blue': 1, 'possible': True}, {'ID': 69, 'red': 19, 'green': 1, 'blue': 0, 'possible': False}]\n",
      "[{'ID': 70, 'green': 13, 'red': 0, 'blue': 0, 'possible': True}, {'ID': 70, 'red': 1, 'green': 14, 'blue': 2, 'possible': False}, {'ID': 70, 'red': 9, 'blue': 1, 'green': 9, 'possible': True}, {'ID': 70, 'green': 6, 'red': 5, 'blue': 1, 'possible': True}, {'ID': 70, 'green': 2, 'red': 10, 'blue': 0, 'possible': True}]\n",
      "[{'ID': 71, 'blue': 7, 'green': 5, 'red': 11, 'possible': True}, {'ID': 71, 'red': 4, 'blue': 8, 'green': 5, 'possible': True}, {'ID': 71, 'green': 1, 'blue': 1, 'red': 0, 'possible': True}, {'ID': 71, 'green': 6, 'red': 8, 'blue': 5, 'possible': True}, {'ID': 71, 'red': 8, 'green': 7, 'blue': 6, 'possible': True}]\n",
      "[{'ID': 72, 'blue': 2, 'green': 2, 'red': 1, 'possible': True}, {'ID': 72, 'green': 5, 'red': 1, 'blue': 3, 'possible': True}, {'ID': 72, 'green': 4, 'red': 0, 'blue': 0, 'possible': True}]\n",
      "[{'ID': 73, 'green': 8, 'blue': 3, 'red': 3, 'possible': True}, {'ID': 73, 'green': 1, 'red': 3, 'blue': 9, 'possible': True}, {'ID': 73, 'red': 3, 'blue': 10, 'green': 8, 'possible': True}, {'ID': 73, 'green': 10, 'red': 3, 'blue': 8, 'possible': True}, {'ID': 73, 'blue': 3, 'green': 3, 'red': 0, 'possible': True}, {'ID': 73, 'green': 2, 'red': 0, 'blue': 0, 'possible': True}]\n",
      "[{'ID': 74, 'red': 5, 'green': 1, 'blue': 0, 'possible': True}, {'ID': 74, 'blue': 1, 'red': 5, 'green': 0, 'possible': True}, {'ID': 74, 'red': 8, 'blue': 3, 'green': 0, 'possible': True}]\n",
      "[{'ID': 75, 'red': 5, 'green': 7, 'blue': 3, 'possible': True}, {'ID': 75, 'red': 1, 'blue': 5, 'green': 4, 'possible': True}, {'ID': 75, 'blue': 2, 'green': 12, 'red': 0, 'possible': True}, {'ID': 75, 'blue': 3, 'red': 5, 'green': 0, 'possible': True}, {'ID': 75, 'green': 8, 'blue': 4, 'red': 3, 'possible': True}, {'ID': 75, 'green': 1, 'blue': 2, 'red': 1, 'possible': True}]\n",
      "[{'ID': 76, 'green': 10, 'blue': 5, 'red': 1, 'possible': True}, {'ID': 76, 'blue': 11, 'green': 16, 'red': 1, 'possible': False}, {'ID': 76, 'blue': 12, 'red': 2, 'green': 18, 'possible': False}, {'ID': 76, 'green': 12, 'blue': 10, 'red': 0, 'possible': True}, {'ID': 76, 'blue': 5, 'green': 5, 'red': 1, 'possible': True}, {'ID': 76, 'green': 9, 'red': 1, 'blue': 1, 'possible': True}]\n",
      "[{'ID': 77, 'blue': 9, 'red': 1, 'green': 2, 'possible': True}, {'ID': 77, 'blue': 1, 'red': 1, 'green': 5, 'possible': True}, {'ID': 77, 'blue': 5, 'red': 0, 'green': 0, 'possible': True}]\n",
      "[{'ID': 78, 'red': 1, 'blue': 1, 'green': 0, 'possible': True}, {'ID': 78, 'blue': 1, 'red': 0, 'green': 0, 'possible': True}, {'ID': 78, 'red': 1, 'green': 0, 'blue': 0, 'possible': True}, {'ID': 78, 'green': 1, 'red': 2, 'blue': 1, 'possible': True}, {'ID': 78, 'blue': 1, 'red': 4, 'green': 0, 'possible': True}]\n",
      "[{'ID': 79, 'green': 3, 'red': 11, 'blue': 4, 'possible': True}, {'ID': 79, 'red': 7, 'green': 1, 'blue': 4, 'possible': True}, {'ID': 79, 'green': 1, 'red': 3, 'blue': 3, 'possible': True}, {'ID': 79, 'blue': 3, 'red': 3, 'green': 4, 'possible': True}, {'ID': 79, 'green': 3, 'blue': 3, 'red': 9, 'possible': True}]\n",
      "[{'ID': 80, 'blue': 11, 'green': 10, 'red': 11, 'possible': True}, {'ID': 80, 'green': 10, 'red': 9, 'blue': 18, 'possible': False}, {'ID': 80, 'green': 11, 'blue': 17, 'red': 7, 'possible': False}]\n",
      "[{'ID': 81, 'red': 6, 'blue': 1, 'green': 0, 'possible': True}, {'ID': 81, 'blue': 3, 'red': 6, 'green': 2, 'possible': True}, {'ID': 81, 'red': 6, 'green': 10, 'blue': 1, 'possible': True}, {'ID': 81, 'blue': 5, 'green': 3, 'red': 3, 'possible': True}]\n",
      "[{'ID': 82, 'red': 6, 'green': 16, 'blue': 2, 'possible': False}, {'ID': 82, 'green': 9, 'red': 6, 'blue': 3, 'possible': True}, {'ID': 82, 'blue': 1, 'red': 9, 'green': 14, 'possible': False}, {'ID': 82, 'green': 8, 'red': 11, 'blue': 3, 'possible': True}, {'ID': 82, 'red': 3, 'green': 5, 'blue': 0, 'possible': True}, {'ID': 82, 'green': 12, 'blue': 3, 'red': 0, 'possible': True}]\n",
      "[{'ID': 83, 'blue': 7, 'green': 5, 'red': 11, 'possible': True}, {'ID': 83, 'red': 8, 'blue': 9, 'green': 13, 'possible': True}, {'ID': 83, 'blue': 13, 'red': 8, 'green': 8, 'possible': True}, {'ID': 83, 'blue': 2, 'green': 9, 'red': 5, 'possible': True}]\n",
      "[{'ID': 84, 'green': 9, 'red': 14, 'blue': 11, 'possible': False}, {'ID': 84, 'green': 1, 'blue': 12, 'red': 6, 'possible': True}, {'ID': 84, 'green': 12, 'red': 10, 'blue': 7, 'possible': True}, {'ID': 84, 'green': 15, 'blue': 6, 'red': 0, 'possible': False}, {'ID': 84, 'blue': 15, 'red': 4, 'green': 6, 'possible': False}, {'ID': 84, 'green': 16, 'red': 2, 'blue': 13, 'possible': False}]\n",
      "[{'ID': 85, 'red': 7, 'blue': 7, 'green': 3, 'possible': True}, {'ID': 85, 'green': 5, 'blue': 1, 'red': 0, 'possible': True}, {'ID': 85, 'red': 6, 'green': 11, 'blue': 7, 'possible': True}]\n",
      "[{'ID': 86, 'green': 9, 'blue': 6, 'red': 6, 'possible': True}, {'ID': 86, 'red': 3, 'blue': 2, 'green': 7, 'possible': True}, {'ID': 86, 'red': 4, 'green': 4, 'blue': 7, 'possible': True}, {'ID': 86, 'blue': 10, 'green': 10, 'red': 2, 'possible': True}, {'ID': 86, 'green': 5, 'red': 0, 'blue': 0, 'possible': True}]\n",
      "[{'ID': 87, 'green': 6, 'blue': 5, 'red': 0, 'possible': True}, {'ID': 87, 'blue': 15, 'green': 9, 'red': 1, 'possible': False}, {'ID': 87, 'blue': 14, 'green': 15, 'red': 0, 'possible': False}]\n",
      "[{'ID': 88, 'blue': 3, 'green': 2, 'red': 5, 'possible': True}, {'ID': 88, 'blue': 8, 'green': 1, 'red': 2, 'possible': True}, {'ID': 88, 'red': 5, 'blue': 8, 'green': 1, 'possible': True}, {'ID': 88, 'red': 1, 'blue': 1, 'green': 0, 'possible': True}, {'ID': 88, 'green': 1, 'red': 6, 'blue': 2, 'possible': True}, {'ID': 88, 'green': 1, 'red': 2, 'blue': 1, 'possible': True}]\n",
      "[{'ID': 89, 'blue': 4, 'green': 3, 'red': 0, 'possible': True}, {'ID': 89, 'blue': 1, 'red': 2, 'green': 0, 'possible': True}, {'ID': 89, 'red': 2, 'green': 1, 'blue': 4, 'possible': True}, {'ID': 89, 'red': 2, 'blue': 2, 'green': 1, 'possible': True}]\n",
      "[{'ID': 90, 'green': 2, 'red': 1, 'blue': 0, 'possible': True}, {'ID': 90, 'green': 3, 'red': 8, 'blue': 0, 'possible': True}, {'ID': 90, 'blue': 1, 'red': 6, 'green': 4, 'possible': True}]\n",
      "[{'ID': 91, 'red': 3, 'green': 0, 'blue': 0, 'possible': True}, {'ID': 91, 'blue': 1, 'red': 6, 'green': 0, 'possible': True}, {'ID': 91, 'blue': 1, 'red': 5, 'green': 1, 'possible': True}]\n",
      "[{'ID': 92, 'red': 6, 'green': 9, 'blue': 7, 'possible': True}, {'ID': 92, 'green': 9, 'red': 4, 'blue': 0, 'possible': True}, {'ID': 92, 'green': 2, 'blue': 5, 'red': 0, 'possible': True}]\n",
      "[{'ID': 93, 'green': 7, 'red': 1, 'blue': 0, 'possible': True}, {'ID': 93, 'blue': 3, 'red': 3, 'green': 0, 'possible': True}, {'ID': 93, 'green': 3, 'red': 9, 'blue': 4, 'possible': True}, {'ID': 93, 'red': 2, 'green': 6, 'blue': 0, 'possible': True}, {'ID': 93, 'red': 5, 'blue': 3, 'green': 0, 'possible': True}]\n",
      "[{'ID': 94, 'green': 4, 'red': 11, 'blue': 0, 'possible': True}, {'ID': 94, 'green': 13, 'red': 9, 'blue': 0, 'possible': True}, {'ID': 94, 'green': 16, 'red': 11, 'blue': 0, 'possible': False}, {'ID': 94, 'green': 6, 'blue': 2, 'red': 14, 'possible': False}, {'ID': 94, 'green': 17, 'red': 9, 'blue': 0, 'possible': False}]\n",
      "[{'ID': 95, 'red': 7, 'blue': 13, 'green': 2, 'possible': True}, {'ID': 95, 'green': 8, 'blue': 13, 'red': 3, 'possible': True}, {'ID': 95, 'green': 5, 'red': 6, 'blue': 13, 'possible': True}, {'ID': 95, 'green': 8, 'blue': 8, 'red': 2, 'possible': True}, {'ID': 95, 'blue': 6, 'green': 4, 'red': 8, 'possible': True}, {'ID': 95, 'blue': 2, 'red': 2, 'green': 0, 'possible': True}]\n",
      "[{'ID': 96, 'red': 10, 'blue': 3, 'green': 3, 'possible': True}, {'ID': 96, 'blue': 2, 'green': 4, 'red': 5, 'possible': True}, {'ID': 96, 'blue': 7, 'green': 4, 'red': 6, 'possible': True}, {'ID': 96, 'green': 1, 'red': 4, 'blue': 5, 'possible': True}]\n",
      "[{'ID': 97, 'red': 5, 'blue': 8, 'green': 0, 'possible': True}, {'ID': 97, 'green': 4, 'red': 2, 'blue': 14, 'possible': True}, {'ID': 97, 'blue': 10, 'green': 7, 'red': 0, 'possible': True}]\n",
      "[{'ID': 98, 'red': 1, 'green': 2, 'blue': 14, 'possible': True}, {'ID': 98, 'green': 6, 'blue': 1, 'red': 0, 'possible': True}, {'ID': 98, 'blue': 19, 'red': 4, 'green': 0, 'possible': False}, {'ID': 98, 'blue': 18, 'red': 4, 'green': 3, 'possible': False}, {'ID': 98, 'red': 2, 'blue': 1, 'green': 0, 'possible': True}]\n",
      "[{'ID': 99, 'red': 3, 'blue': 4, 'green': 0, 'possible': True}, {'ID': 99, 'red': 7, 'blue': 5, 'green': 3, 'possible': True}, {'ID': 99, 'green': 2, 'blue': 1, 'red': 1, 'possible': True}, {'ID': 99, 'blue': 4, 'green': 2, 'red': 1, 'possible': True}, {'ID': 99, 'green': 1, 'red': 1, 'blue': 2, 'possible': True}, {'ID': 99, 'green': 1, 'blue': 6, 'red': 7, 'possible': True}]\n",
      "[{'ID': 100, 'blue': 2, 'green': 10, 'red': 0, 'possible': True}, {'ID': 100, 'green': 10, 'red': 14, 'blue': 0, 'possible': False}, {'ID': 100, 'green': 3, 'red': 5, 'blue': 2, 'possible': True}, {'ID': 100, 'red': 1, 'blue': 3, 'green': 7, 'possible': True}, {'ID': 100, 'blue': 1, 'red': 7, 'green': 0, 'possible': True}]\n"
     ]
    }
   ],
   "source": [
    "possible_game_sum = 0\n",
    "for game in games:\n",
    "    game_cleaning(game)\n",
    "    check_possible(game_list)"
   ]
  },
  {
   "cell_type": "code",
   "execution_count": 7,
   "metadata": {},
   "outputs": [
    {
     "data": {
      "text/plain": [
       "2879"
      ]
     },
     "execution_count": 7,
     "metadata": {},
     "output_type": "execute_result"
    }
   ],
   "source": [
    "possible_game_sum"
   ]
  },
  {
   "cell_type": "code",
   "execution_count": 8,
   "metadata": {},
   "outputs": [
    {
     "name": "stdout",
     "output_type": "stream",
     "text": [
      "['1 green, 10 blue, 5 red', ' 8 blue, 9 green', ' 20 green, 7 red, 10 blue', ' 12 green, 6 blue, 6 red', ' 10 blue, 11 green', ' 8 blue, 17 green, 5 red']\n",
      "[{'ID': 6, 'green': 1, 'blue': 10, 'red': 5, 'possible': True}, {'ID': 6, 'blue': 8, 'green': 9, 'red': 0, 'possible': True}, {'ID': 6, 'green': 20, 'red': 7, 'blue': 10, 'possible': False}, {'ID': 6, 'green': 12, 'blue': 6, 'red': 6, 'possible': True}, {'ID': 6, 'blue': 10, 'green': 11, 'red': 0, 'possible': True}, {'ID': 6, 'blue': 8, 'green': 17, 'red': 5, 'possible': False}]\n",
      "True\n",
      "True\n",
      "False\n",
      "True\n",
      "True\n",
      "False\n"
     ]
    }
   ],
   "source": [
    "game_list = []\n",
    "impossible_round = 0\n",
    "game_id = games[5].split(': ')[0]\n",
    "game_results = games[5].split(';')\n",
    "game_results[0] = game_results[0].replace(f'{game_id}: ', '')\n",
    "game_id = int(game_id.split(' ')[1])\n",
    "print(game_results)\n",
    "for game_round in game_results:\n",
    "    new_game_round = {'ID': game_id}\n",
    "    game_round = game_round.split(', ')\n",
    "    game_round = [x.strip() for x in game_round]\n",
    "    # print(game_round)\n",
    "    for cubes_drawn_perColor in game_round:\n",
    "        cubes_drawn_perColor = cubes_drawn_perColor.split(' ')\n",
    "        cubes_drawn_perColor = [x.strip() for x in cubes_drawn_perColor]\n",
    "        cubes_drawn_perColor = {\n",
    "            cubes_drawn_perColor[1]: int(cubes_drawn_perColor[0])}\n",
    "        # print(cubes_drawn_perColor)\n",
    "        new_game_round.update(cubes_drawn_perColor)\n",
    "    # print(new_game_round)\n",
    "    game_list.append(new_game_round)\n",
    "# print(game_list)\n",
    "\n",
    "for game_round in game_list:\n",
    "    if 'red' not in game_round:\n",
    "        game_round.update({'red': 0})\n",
    "        # print(game_list)\n",
    "    if 'green' not in game_round:\n",
    "        game_round.update({'green': 0})\n",
    "        # print(game_list)\n",
    "    if 'blue' not in game_round:\n",
    "        game_round.update({'blue': 0})\n",
    "\n",
    "# print(game_list)\n",
    "\n",
    "for game_round in game_list:\n",
    "    if game_round['red'] > 12 or game_round['green'] > 13 or game_round['blue'] > 14:\n",
    "        game_round.update({'possible': False})\n",
    "        # print('Impossible')\n",
    "    else:\n",
    "        game_round.update({'possible': True})\n",
    "            # print('Possible')\n",
    "print(game_list)\n",
    "\n",
    "for game_round in game_list:\n",
    "    if game_round['possible'] == False:\n",
    "        impossible_round += 1\n",
    "        print(False)\n",
    "    else:\n",
    "        print(True)\n",
    "\n",
    "if impossible_round == 0:\n",
    "    possible_game_sum = possible_game_sum + game_list[0]['ID']"
   ]
  },
  {
   "cell_type": "markdown",
   "metadata": {},
   "source": [
    "# Part 2"
   ]
  },
  {
   "cell_type": "code",
   "execution_count": 27,
   "metadata": {},
   "outputs": [
    {
     "name": "stdout",
     "output_type": "stream",
     "text": [
      "7\n",
      "20\n",
      "10 \n",
      "\n",
      "1400\n"
     ]
    }
   ],
   "source": [
    "red_list = []\n",
    "green_list = []\n",
    "blue_list = []\n",
    "\n",
    "for game_round in game_list:\n",
    "    green_list.append(game_round['green'])\n",
    "    red_list.append(game_round['red'])\n",
    "    blue_list.append(game_round['blue'])\n",
    "\n",
    "power = max(red_list) * max(green_list) * max(blue_list)\n",
    "print(power)"
   ]
  },
  {
   "cell_type": "code",
   "execution_count": 39,
   "metadata": {},
   "outputs": [],
   "source": [
    "def calculate_power(game_list):\n",
    "    global power_sum\n",
    "    red_list = []\n",
    "    green_list = []\n",
    "    blue_list = []\n",
    "\n",
    "    for game_round in game_list:\n",
    "        green_list.append(game_round['green'])\n",
    "        red_list.append(game_round['red'])\n",
    "        blue_list.append(game_round['blue'])\n",
    "\n",
    "    power = max(red_list) * max(green_list) * max(blue_list)\n",
    "    power_sum = power_sum + power"
   ]
  },
  {
   "cell_type": "code",
   "execution_count": 40,
   "metadata": {},
   "outputs": [
    {
     "data": {
      "text/plain": [
       "65122"
      ]
     },
     "execution_count": 40,
     "metadata": {},
     "output_type": "execute_result"
    }
   ],
   "source": [
    "power_sum = 0\n",
    "for game in games:\n",
    "    game_cleaning(game)\n",
    "    calculate_power(game_list)\n",
    "\n",
    "power_sum"
   ]
  }
 ],
 "metadata": {
  "kernelspec": {
   "display_name": "base",
   "language": "python",
   "name": "python3"
  },
  "language_info": {
   "codemirror_mode": {
    "name": "ipython",
    "version": 3
   },
   "file_extension": ".py",
   "mimetype": "text/x-python",
   "name": "python",
   "nbconvert_exporter": "python",
   "pygments_lexer": "ipython3",
   "version": "3.11.5"
  }
 },
 "nbformat": 4,
 "nbformat_minor": 2
}
