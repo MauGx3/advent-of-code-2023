{
 "cells": [
  {
   "cell_type": "code",
   "execution_count": null,
   "metadata": {},
   "outputs": [],
   "source": [
    "with open('scratchcards_example.txt', 'r') as f:\n",
    "    scratchcards = f.readlines()\n",
    "\n",
    "scratchcards = [line.strip() for line in scratchcards]\n",
    "# scratchcards"
   ]
  }
 ],
 "metadata": {
  "language_info": {
   "name": "python"
  }
 },
 "nbformat": 4,
 "nbformat_minor": 2
}
