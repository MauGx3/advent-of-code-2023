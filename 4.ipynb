{
 "cells": [
  {
   "cell_type": "code",
   "execution_count": 37,
   "metadata": {},
   "outputs": [],
   "source": [
    "with open('scratchcards_example.txt', 'r') as f:\n",
    "    scratchcards = f.readlines()\n",
    "\n",
    "scratchcards = [line.strip() for line in scratchcards]\n",
    "# scratchcards"
   ]
  },
  {
   "cell_type": "code",
   "execution_count": 38,
   "metadata": {},
   "outputs": [],
   "source": [
    "clean_scratchcards = list()\n",
    "\n",
    "for line in scratchcards:\n",
    "    line = line.split(' | ')\n",
    "    line[0] = line[0].split(': ')\n",
    "    line[0].append(line[1])\n",
    "    line.remove(line[1])\n",
    "    line = line[0]\n",
    "    line[1] = line[1].strip()\n",
    "    line[1] = line[1].split(' ')\n",
    "    line[2] = line[2].split(' ')\n",
    "    line[2] = list(filter(None, line[2]))\n",
    "    drawn = set(line[1])\n",
    "    winners = set(line[2])\n",
    "    common = drawn.intersection(winners)\n",
    "    # print(common)\n",
    "    # print(line)\n",
    "    # print('\\n')\n",
    "\n",
    "    clean_scratchcards += [line]"
   ]
  },
  {
   "cell_type": "code",
   "execution_count": 39,
   "metadata": {},
   "outputs": [],
   "source": [
    "def get_common_numbers(line):\n",
    "    global common\n",
    "    drawn = set(line[1])\n",
    "    winners = set(line[2])\n",
    "    common = drawn.intersection(winners)\n",
    "    # print(common)"
   ]
  },
  {
   "cell_type": "code",
   "execution_count": 40,
   "metadata": {},
   "outputs": [
    {
     "name": "stdout",
     "output_type": "stream",
     "text": [
      "none\n",
      "0\n"
     ]
    }
   ],
   "source": [
    "points = 0\n",
    "try:\n",
    "    common\n",
    "    if common == set():\n",
    "        print('none')\n",
    "    elif len(common) == 1:\n",
    "        points = 1\n",
    "        point_total += points\n",
    "    elif len(common) == 2:\n",
    "        points = 1 * 2\n",
    "        point_total += points\n",
    "    elif len(common) > 2:\n",
    "        points = 1\n",
    "        points = points * 2**(len(common) - 1)\n",
    "        point_total += points\n",
    "except Exception as e:\n",
    "    print(e)\n",
    "\n",
    "print(points)"
   ]
  },
  {
   "cell_type": "code",
   "execution_count": 41,
   "metadata": {},
   "outputs": [],
   "source": [
    "def get_point_total(clean_scratchcards, point_total):\n",
    "    for line in clean_scratchcards:\n",
    "        # print(line)\n",
    "        drawn = set(line[1])\n",
    "        winners = set(line[2])\n",
    "        common = drawn.intersection(winners)\n",
    "        # print(drawn, winners, common)\n",
    "        try:\n",
    "            common\n",
    "            if common == set():\n",
    "                pass\n",
    "            elif len(common) == 1:\n",
    "                points = 1\n",
    "                point_total += points\n",
    "            elif len(common) == 2:\n",
    "                points = 1 * 2\n",
    "                point_total += points\n",
    "            elif len(common) > 2:\n",
    "                points = 1\n",
    "                points = points * 2**(len(common) - 1)\n",
    "                point_total += points\n",
    "        except Exception as e:\n",
    "            print(e)\n",
    "    return point_total"
   ]
  },
  {
   "cell_type": "code",
   "execution_count": 42,
   "metadata": {},
   "outputs": [
    {
     "data": {
      "text/plain": [
       "13"
      ]
     },
     "execution_count": 42,
     "metadata": {},
     "output_type": "execute_result"
    }
   ],
   "source": [
    "point_total = 0\n",
    "get_point_total(clean_scratchcards, point_total)"
   ]
  },
  {
   "cell_type": "markdown",
   "metadata": {},
   "source": [
    "# Part 2"
   ]
  },
  {
   "cell_type": "code",
   "execution_count": 43,
   "metadata": {},
   "outputs": [],
   "source": [
    "def get_bonus_scratchcards(common, line_index, copy_cards):\n",
    "    bonus_scratchcards = 0\n",
    "    for i in range(line_index + 1, len(common) + line_index + 1):\n",
    "        bonus_scratchcards += 1\n",
    "        copy_cards += [clean_scratchcards[i]]\n",
    "        # print(clean_scratchcards[i])\n",
    "    # print(copy_cards)\n",
    "    # print('bonus:', bonus_scratchcards)\n",
    "        # get_common_numbers(clean_scratchcards[i])\n",
    "        # print(common)"
   ]
  },
  {
   "cell_type": "code",
   "execution_count": 44,
   "metadata": {},
   "outputs": [],
   "source": [
    "line_index = 0\n",
    "bonus_scratchcards = 0\n",
    "line = clean_scratchcards[line_index]\n",
    "copy_cards = list()\n",
    "get_common_numbers(line)\n",
    "get_bonus_scratchcards(common, line_index, copy_cards)"
   ]
  },
  {
   "cell_type": "code",
   "execution_count": 45,
   "metadata": {},
   "outputs": [
    {
     "name": "stdout",
     "output_type": "stream",
     "text": [
      "card no 2\n",
      "2\n",
      "{'61', '32'} \n",
      "\n",
      "card no 3\n",
      "2\n",
      "{'21', '1'} \n",
      "\n",
      "card no 4\n",
      "1\n",
      "{'84'} \n",
      "\n",
      "card no 5\n",
      "0\n",
      "set() \n",
      "\n",
      "card no 4\n",
      "1\n",
      "{'84'} \n",
      "\n",
      "card no 5\n",
      "0\n",
      "set() \n",
      "\n",
      "card no 5\n",
      "0\n",
      "set() \n",
      "\n",
      "card no 6\n",
      "0\n",
      "set() \n",
      "\n",
      "card no 6\n",
      "0\n",
      "set() \n",
      "\n",
      "card no 6\n",
      "0\n",
      "set() \n",
      "\n"
     ]
    }
   ],
   "source": [
    "for n, card in enumerate(copy_cards):\n",
    "    bonus_scratchcards = 0\n",
    "    get_common_numbers(card)\n",
    "    line_index = int(copy_cards[n][0][5:])\n",
    "    print('card no', line_index)\n",
    "    bonus_scratchcards += len(common)\n",
    "    print(bonus_scratchcards)\n",
    "    print(common, '\\n')\n",
    "    get_bonus_scratchcards(common, line_index, copy_cards)"
   ]
  },
  {
   "cell_type": "code",
   "execution_count": 46,
   "metadata": {},
   "outputs": [
    {
     "data": {
      "text/plain": [
       "10"
      ]
     },
     "execution_count": 46,
     "metadata": {},
     "output_type": "execute_result"
    }
   ],
   "source": [
    "len(copy_cards)"
   ]
  },
  {
   "cell_type": "code",
   "execution_count": 47,
   "metadata": {},
   "outputs": [
    {
     "name": "stdout",
     "output_type": "stream",
     "text": [
      "original card: ['Card 1', ['41', '48', '83', '86', '17'], ['83', '86', '6', '31', '17', '9', '48', '53']]\n",
      "common: {'17', '86', '83', '48'}\n",
      "copies: [['Card 2', ['13', '32', '20', '16', '61'], ['61', '30', '68', '82', '17', '32', '24', '19']], ['Card 3', ['1', '21', '53', '59', '44'], ['69', '82', '63', '72', '16', '21', '14', '1']], ['Card 4', ['41', '92', '73', '84', '69'], ['59', '84', '76', '51', '58', '5', '54', '83']], ['Card 5', ['87', '83', '26', '28', '32'], ['88', '30', '70', '12', '93', '22', '82', '36']]]\n",
      "card #: 2, common: {'61', '32'}\n",
      "bonus of bonus: [['Card 3', ['1', '21', '53', '59', '44'], ['69', '82', '63', '72', '16', '21', '14', '1']], ['Card 4', ['41', '92', '73', '84', '69'], ['59', '84', '76', '51', '58', '5', '54', '83']]]\n",
      "card #: 3, common: {'21', '1'}\n",
      "bonus of bonus: [['Card 4', ['41', '92', '73', '84', '69'], ['59', '84', '76', '51', '58', '5', '54', '83']], ['Card 5', ['87', '83', '26', '28', '32'], ['88', '30', '70', '12', '93', '22', '82', '36']]]\n",
      "card #: 4, common: {'84'}\n",
      "bonus of bonus: [['Card 5', ['87', '83', '26', '28', '32'], ['88', '30', '70', '12', '93', '22', '82', '36']]]\n",
      "card #: 5, common: set()\n",
      "bonus of bonus: []\n",
      "\n",
      "\n",
      "original card: ['Card 2', ['13', '32', '20', '16', '61'], ['61', '30', '68', '82', '17', '32', '24', '19']]\n",
      "common: {'61', '32'}\n",
      "copies: [['Card 3', ['1', '21', '53', '59', '44'], ['69', '82', '63', '72', '16', '21', '14', '1']], ['Card 4', ['41', '92', '73', '84', '69'], ['59', '84', '76', '51', '58', '5', '54', '83']]]\n",
      "card #: 3, common: {'21', '1'}\n",
      "bonus of bonus: [['Card 4', ['41', '92', '73', '84', '69'], ['59', '84', '76', '51', '58', '5', '54', '83']], ['Card 5', ['87', '83', '26', '28', '32'], ['88', '30', '70', '12', '93', '22', '82', '36']]]\n",
      "card #: 4, common: {'84'}\n",
      "bonus of bonus: [['Card 5', ['87', '83', '26', '28', '32'], ['88', '30', '70', '12', '93', '22', '82', '36']]]\n",
      "\n",
      "\n",
      "original card: ['Card 3', ['1', '21', '53', '59', '44'], ['69', '82', '63', '72', '16', '21', '14', '1']]\n",
      "common: {'21', '1'}\n",
      "copies: [['Card 4', ['41', '92', '73', '84', '69'], ['59', '84', '76', '51', '58', '5', '54', '83']], ['Card 5', ['87', '83', '26', '28', '32'], ['88', '30', '70', '12', '93', '22', '82', '36']]]\n",
      "card #: 4, common: {'84'}\n",
      "bonus of bonus: [['Card 5', ['87', '83', '26', '28', '32'], ['88', '30', '70', '12', '93', '22', '82', '36']]]\n",
      "card #: 5, common: set()\n",
      "bonus of bonus: []\n",
      "\n",
      "\n",
      "original card: ['Card 4', ['41', '92', '73', '84', '69'], ['59', '84', '76', '51', '58', '5', '54', '83']]\n",
      "common: {'84'}\n",
      "copies: [['Card 5', ['87', '83', '26', '28', '32'], ['88', '30', '70', '12', '93', '22', '82', '36']]]\n",
      "card #: 5, common: set()\n",
      "bonus of bonus: []\n",
      "\n",
      "\n",
      "original card: ['Card 5', ['87', '83', '26', '28', '32'], ['88', '30', '70', '12', '93', '22', '82', '36']]\n",
      "common: set()\n",
      "copies: []\n",
      "\n",
      "\n",
      "original card: ['Card 6', ['31', '18', '13', '56', '72'], ['74', '77', '10', '23', '35', '67', '36', '11']]\n",
      "common: set()\n",
      "copies: []\n",
      "\n",
      "\n"
     ]
    }
   ],
   "source": [
    "line_index = 0\n",
    "bonus_scratchcards = 0\n",
    "copy_cards_bonus_total = []\n",
    "copy_cards = []\n",
    "copy_cards_total = []\n",
    "\n",
    "for card in clean_scratchcards:\n",
    "    copy_cards = list()\n",
    "    print('original card:', card)\n",
    "    get_common_numbers(card)\n",
    "    print('common:', common)\n",
    "    get_bonus_scratchcards(common, line_index, copy_cards)\n",
    "    print('copies:', copy_cards)\n",
    "    copy_cards_total += copy_cards\n",
    "    for n, copy in enumerate(copy_cards):\n",
    "        get_common_numbers(copy)\n",
    "        copy_line_index = int(copy_cards[n][0][5:])\n",
    "        print(f'card #: {copy_line_index}, common: {common}')\n",
    "        # for x in range(copy_line_index, len(common)):\n",
    "        # copy_cards_bonus = []\n",
    "            # print(clean_scratchcards[copy_line_index])\n",
    "            # get_common_numbers(clean_scratchcards[copy_line_index])\n",
    "        get_bonus_scratchcards(common, copy_line_index-1, copy_cards_bonus)\n",
    "        copy_cards_bonus_total += copy_cards_bonus\n",
    "        print('bonus of bonus:', copy_cards_bonus)\n",
    "        copy_cards_bonus = []\n",
    "        \n",
    "        for n, copy in enumerate(copy_cards_bonus):\n",
    "            get_common_numbers(copy)\n",
    "            copy_line_index = int(copy_cards_bonus[n][0][5:])\n",
    "            get_bonus_scratchcards(common, copy_line_index-1, copy_cards_bonus)\n",
    "            copy_cards_bonus_total += copy_cards_bonus\n",
    "            copy_cards_bonus = []\n",
    "    print('\\n')\n",
    "    line_index += 1"
   ]
  },
  {
   "cell_type": "code",
   "execution_count": 48,
   "metadata": {},
   "outputs": [
    {
     "name": "stdout",
     "output_type": "stream",
     "text": [
      "[['Card 1', ['41', '48', '83', '86', '17'], ['83', '86', '6', '31', '17', '9', '48', '53']], ['Card 2', ['13', '32', '20', '16', '61'], ['61', '30', '68', '82', '17', '32', '24', '19']], ['Card 3', ['1', '21', '53', '59', '44'], ['69', '82', '63', '72', '16', '21', '14', '1']], ['Card 4', ['41', '92', '73', '84', '69'], ['59', '84', '76', '51', '58', '5', '54', '83']], ['Card 5', ['87', '83', '26', '28', '32'], ['88', '30', '70', '12', '93', '22', '82', '36']], ['Card 6', ['31', '18', '13', '56', '72'], ['74', '77', '10', '23', '35', '67', '36', '11']]]\n",
      "6\n",
      "[['Card 2', ['13', '32', '20', '16', '61'], ['61', '30', '68', '82', '17', '32', '24', '19']], ['Card 3', ['1', '21', '53', '59', '44'], ['69', '82', '63', '72', '16', '21', '14', '1']], ['Card 4', ['41', '92', '73', '84', '69'], ['59', '84', '76', '51', '58', '5', '54', '83']], ['Card 5', ['87', '83', '26', '28', '32'], ['88', '30', '70', '12', '93', '22', '82', '36']], ['Card 3', ['1', '21', '53', '59', '44'], ['69', '82', '63', '72', '16', '21', '14', '1']], ['Card 4', ['41', '92', '73', '84', '69'], ['59', '84', '76', '51', '58', '5', '54', '83']], ['Card 4', ['41', '92', '73', '84', '69'], ['59', '84', '76', '51', '58', '5', '54', '83']], ['Card 5', ['87', '83', '26', '28', '32'], ['88', '30', '70', '12', '93', '22', '82', '36']], ['Card 5', ['87', '83', '26', '28', '32'], ['88', '30', '70', '12', '93', '22', '82', '36']]]\n",
      "9\n",
      "[['Card 3', ['1', '21', '53', '59', '44'], ['69', '82', '63', '72', '16', '21', '14', '1']], ['Card 4', ['41', '92', '73', '84', '69'], ['59', '84', '76', '51', '58', '5', '54', '83']], ['Card 4', ['41', '92', '73', '84', '69'], ['59', '84', '76', '51', '58', '5', '54', '83']], ['Card 5', ['87', '83', '26', '28', '32'], ['88', '30', '70', '12', '93', '22', '82', '36']], ['Card 5', ['87', '83', '26', '28', '32'], ['88', '30', '70', '12', '93', '22', '82', '36']], ['Card 4', ['41', '92', '73', '84', '69'], ['59', '84', '76', '51', '58', '5', '54', '83']], ['Card 5', ['87', '83', '26', '28', '32'], ['88', '30', '70', '12', '93', '22', '82', '36']], ['Card 5', ['87', '83', '26', '28', '32'], ['88', '30', '70', '12', '93', '22', '82', '36']], ['Card 5', ['87', '83', '26', '28', '32'], ['88', '30', '70', '12', '93', '22', '82', '36']]]\n"
     ]
    },
    {
     "data": {
      "text/plain": [
       "9"
      ]
     },
     "execution_count": 48,
     "metadata": {},
     "output_type": "execute_result"
    }
   ],
   "source": [
    "print(clean_scratchcards)\n",
    "print(len(clean_scratchcards))\n",
    "print(copy_cards_total)\n",
    "print(len(copy_cards_total))\n",
    "print(copy_cards_bonus_total)\n",
    "len(copy_cards_bonus_total)"
   ]
  }
 ],
 "metadata": {
  "kernelspec": {
   "display_name": "base",
   "language": "python",
   "name": "python3"
  },
  "language_info": {
   "codemirror_mode": {
    "name": "ipython",
    "version": 3
   },
   "file_extension": ".py",
   "mimetype": "text/x-python",
   "name": "python",
   "nbconvert_exporter": "python",
   "pygments_lexer": "ipython3",
   "version": "3.11.5"
  }
 },
 "nbformat": 4,
 "nbformat_minor": 2
}
